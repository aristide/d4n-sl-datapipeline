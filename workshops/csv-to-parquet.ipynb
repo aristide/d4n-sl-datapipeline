{
 "cells": [
  {
   "cell_type": "code",
   "execution_count": null,
   "metadata": {},
   "outputs": [],
   "source": [
    "#pip install pyarrow"
   ]
  },
  {
   "cell_type": "code",
   "execution_count": 7,
   "metadata": {},
   "outputs": [],
   "source": [
    "import pyarrow.csv as pv\n",
    "import pyarrow.parquet as pq"
   ]
  },
  {
   "cell_type": "code",
   "execution_count": 8,
   "metadata": {},
   "outputs": [],
   "source": [
    "def csv_to_parquet(csv_file, parquet_file, compression='snappy'):\n",
    "    # Define options for reading CSV\n",
    "    csv_options = pv.ParseOptions(delimiter=',')\n",
    "    convert_options = pv.ConvertOptions()\n",
    "\n",
    "    # Read CSV into Arrow Table\n",
    "    table = pv.read_csv(csv_file, parse_options=csv_options, convert_options=convert_options)\n",
    "\n",
    "    # Write Arrow Table to Parquet with compression\n",
    "    pq.write_table(table, parquet_file, compression=compression)"
   ]
  },
  {
   "cell_type": "code",
   "execution_count": null,
   "metadata": {},
   "outputs": [],
   "source": [
    "if __name__ == \"__main__\":\n",
    "    csv_file_path = 'survey_data.csv'  # Replace 'large_file.csv' with your CSV file path\n",
    "    parquet_output_path = 'data.parquet'  # Replace 'output.parquet' with your desired output path\n",
    "\n",
    "    # Convert CSV to Parquet\n",
    "    csv_to_parquet(csv_file_path, parquet_output_path, compression='snappy') \n",
    "    #You can specify the compression algorithm you want to use (e.g., 'SNAPPY', 'GZIP', 'BROTLI', etc.) default is snappy"
   ]
  }
 ],
 "metadata": {
  "kernelspec": {
   "display_name": "Python 3",
   "language": "python",
   "name": "python3"
  },
  "language_info": {
   "codemirror_mode": {
    "name": "ipython",
    "version": 3
   },
   "file_extension": ".py",
   "mimetype": "text/x-python",
   "name": "python",
   "nbconvert_exporter": "python",
   "pygments_lexer": "ipython3",
   "version": "3.10.2"
  }
 },
 "nbformat": 4,
 "nbformat_minor": 4
}
