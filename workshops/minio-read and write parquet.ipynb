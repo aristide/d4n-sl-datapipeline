{
 "cells": [
  {
   "cell_type": "code",
   "execution_count": 51,
   "id": "965a16e4-adc1-49c8-aa62-ba9e093136d6",
   "metadata": {},
   "outputs": [],
   "source": [
    "# import libs\n",
    "import pyarrow.parquet as pq\n",
    "import pyarrow as pa\n",
    "import s3fs"
   ]
  },
  {
   "cell_type": "code",
   "execution_count": 42,
   "id": "d7887b5a-a6ac-4a6d-b850-48e9ef6a0bc1",
   "metadata": {
    "tags": []
   },
   "outputs": [],
   "source": [
    "# MinIO configuration\n",
    "minio_endpoint = \"http://minio.d4n-storage.svc.cluster.local:9000\"  # Replace with your MinIO server URL\n",
    "minio_access_key = \"serviceaccount\"                # Replace with your MinIO access key\n",
    "minio_secret_key = \"PassWordD4Now\"                # Replace with your MinIO secret key"
   ]
  },
  {
   "cell_type": "code",
   "execution_count": 43,
   "id": "73c11a31-f35b-4f02-810c-5157c1e6b5a0",
   "metadata": {
    "tags": []
   },
   "outputs": [],
   "source": [
    "# Initialize S3 filesystem for MinIO\n",
    "fs = s3fs.S3FileSystem(\n",
    "    endpoint_url=minio_endpoint,\n",
    "    key=minio_access_key,\n",
    "    secret=minio_secret_key\n",
    ")"
   ]
  },
  {
   "cell_type": "code",
   "execution_count": null,
   "id": "69fa71e9-4281-43e3-95cd-13a669588895",
   "metadata": {
    "tags": []
   },
   "outputs": [],
   "source": [
    "# path to the minio parquet data \n",
    "staging_parquet_path = \"staging/Survey/data.parquet\""
   ]
  },
  {
   "cell_type": "code",
   "execution_count": 45,
   "id": "03a70c0d-5c76-483d-84bb-2accbb61f3f9",
   "metadata": {
    "tags": [
     "hell"
    ]
   },
   "outputs": [],
   "source": [
    "# Read Parquet file from MinIO\n",
    "rga_table = pq.read_table(staging_parquet_path, filesystem=fs)"
   ]
  },
  {
   "cell_type": "code",
   "execution_count": 46,
   "id": "abaead32-78ad-4466-9e03-b290f594e71a",
   "metadata": {
    "tags": []
   },
   "outputs": [
    {
     "data": {
      "text/html": [
       "<div>\n",
       "<style scoped>\n",
       "    .dataframe tbody tr th:only-of-type {\n",
       "        vertical-align: middle;\n",
       "    }\n",
       "\n",
       "    .dataframe tbody tr th {\n",
       "        vertical-align: top;\n",
       "    }\n",
       "\n",
       "    .dataframe thead th {\n",
       "        text-align: right;\n",
       "    }\n",
       "</style>\n",
       "<table border=\"1\" class=\"dataframe\">\n",
       "  <thead>\n",
       "    <tr style=\"text-align: right;\">\n",
       "      <th></th>\n",
       "      <th>country</th>\n",
       "      <th>sex</th>\n",
       "      <th>education</th>\n",
       "      <th>ID</th>\n",
       "      <th>age</th>\n",
       "      <th>marital_status</th>\n",
       "      <th>hh_size</th>\n",
       "      <th>child</th>\n",
       "      <th>employment_status</th>\n",
       "      <th>income_loss</th>\n",
       "      <th>...</th>\n",
       "      <th>age_cat2</th>\n",
       "      <th>education2</th>\n",
       "      <th>edu_age</th>\n",
       "      <th>edu_child</th>\n",
       "      <th>young_child</th>\n",
       "      <th>hh_comp_mar</th>\n",
       "      <th>countryweightf</th>\n",
       "      <th>countryweightm</th>\n",
       "      <th>_merge</th>\n",
       "      <th>weights_sample</th>\n",
       "    </tr>\n",
       "  </thead>\n",
       "  <tbody>\n",
       "    <tr>\n",
       "      <th>0</th>\n",
       "      <td>Ethiopia</td>\n",
       "      <td>Men</td>\n",
       "      <td>Technical</td>\n",
       "      <td>None</td>\n",
       "      <td>26</td>\n",
       "      <td>Single</td>\n",
       "      <td>5</td>\n",
       "      <td>0</td>\n",
       "      <td>Own Account Worker</td>\n",
       "      <td>yes</td>\n",
       "      <td>...</td>\n",
       "      <td>25-34</td>\n",
       "      <td>Tertiary Education and More</td>\n",
       "      <td>0.0</td>\n",
       "      <td>0.0</td>\n",
       "      <td>0</td>\n",
       "      <td>Single without children</td>\n",
       "      <td>1</td>\n",
       "      <td>1</td>\n",
       "      <td>Matched (3)</td>\n",
       "      <td>1</td>\n",
       "    </tr>\n",
       "    <tr>\n",
       "      <th>1</th>\n",
       "      <td>Ethiopia</td>\n",
       "      <td>Men</td>\n",
       "      <td>Tertiary</td>\n",
       "      <td>None</td>\n",
       "      <td>37</td>\n",
       "      <td>Married</td>\n",
       "      <td>6</td>\n",
       "      <td>1</td>\n",
       "      <td>Formal employee</td>\n",
       "      <td>yes</td>\n",
       "      <td>...</td>\n",
       "      <td>35-44</td>\n",
       "      <td>Tertiary Education and More</td>\n",
       "      <td>0.0</td>\n",
       "      <td>0.0</td>\n",
       "      <td>0</td>\n",
       "      <td>Partnered with children</td>\n",
       "      <td>1</td>\n",
       "      <td>1</td>\n",
       "      <td>Matched (3)</td>\n",
       "      <td>0</td>\n",
       "    </tr>\n",
       "    <tr>\n",
       "      <th>2</th>\n",
       "      <td>Ethiopia</td>\n",
       "      <td>Men</td>\n",
       "      <td>Secondary</td>\n",
       "      <td>None</td>\n",
       "      <td>58</td>\n",
       "      <td>Single</td>\n",
       "      <td>1</td>\n",
       "      <td>0</td>\n",
       "      <td>Own Account Worker</td>\n",
       "      <td>No</td>\n",
       "      <td>...</td>\n",
       "      <td>45-59</td>\n",
       "      <td>Secondary Education or Less</td>\n",
       "      <td>0.0</td>\n",
       "      <td>0.0</td>\n",
       "      <td>0</td>\n",
       "      <td>Single without children</td>\n",
       "      <td>1</td>\n",
       "      <td>1</td>\n",
       "      <td>Matched (3)</td>\n",
       "      <td>1</td>\n",
       "    </tr>\n",
       "    <tr>\n",
       "      <th>3</th>\n",
       "      <td>Ethiopia</td>\n",
       "      <td>Women</td>\n",
       "      <td>Secondary</td>\n",
       "      <td>None</td>\n",
       "      <td>26</td>\n",
       "      <td>Single</td>\n",
       "      <td>3</td>\n",
       "      <td>0</td>\n",
       "      <td>Own Account Worker</td>\n",
       "      <td>yes</td>\n",
       "      <td>...</td>\n",
       "      <td>25-34</td>\n",
       "      <td>Secondary Education or Less</td>\n",
       "      <td>0.0</td>\n",
       "      <td>0.0</td>\n",
       "      <td>0</td>\n",
       "      <td>Single without children</td>\n",
       "      <td>1</td>\n",
       "      <td>1</td>\n",
       "      <td>Matched (3)</td>\n",
       "      <td>1</td>\n",
       "    </tr>\n",
       "    <tr>\n",
       "      <th>4</th>\n",
       "      <td>Ethiopia</td>\n",
       "      <td>Men</td>\n",
       "      <td>Technical</td>\n",
       "      <td>None</td>\n",
       "      <td>33</td>\n",
       "      <td>Married</td>\n",
       "      <td>3</td>\n",
       "      <td>0</td>\n",
       "      <td>Own Account Worker</td>\n",
       "      <td>yes</td>\n",
       "      <td>...</td>\n",
       "      <td>25-34</td>\n",
       "      <td>Tertiary Education and More</td>\n",
       "      <td>0.0</td>\n",
       "      <td>0.0</td>\n",
       "      <td>0</td>\n",
       "      <td>Partnered without children</td>\n",
       "      <td>1</td>\n",
       "      <td>1</td>\n",
       "      <td>Matched (3)</td>\n",
       "      <td>0</td>\n",
       "    </tr>\n",
       "  </tbody>\n",
       "</table>\n",
       "<p>5 rows × 236 columns</p>\n",
       "</div>"
      ],
      "text/plain": [
       "    country    sex  education    ID  age marital_status  hh_size  child  \\\n",
       "0  Ethiopia    Men  Technical  None   26         Single        5      0   \n",
       "1  Ethiopia    Men   Tertiary  None   37        Married        6      1   \n",
       "2  Ethiopia    Men  Secondary  None   58         Single        1      0   \n",
       "3  Ethiopia  Women  Secondary  None   26         Single        3      0   \n",
       "4  Ethiopia    Men  Technical  None   33        Married        3      0   \n",
       "\n",
       "    employment_status income_loss  ... age_cat2                   education2  \\\n",
       "0  Own Account Worker         yes  ...    25-34  Tertiary Education and More   \n",
       "1     Formal employee         yes  ...    35-44  Tertiary Education and More   \n",
       "2  Own Account Worker          No  ...    45-59  Secondary Education or Less   \n",
       "3  Own Account Worker         yes  ...    25-34  Secondary Education or Less   \n",
       "4  Own Account Worker         yes  ...    25-34  Tertiary Education and More   \n",
       "\n",
       "  edu_age edu_child young_child                 hh_comp_mar countryweightf  \\\n",
       "0     0.0       0.0           0     Single without children              1   \n",
       "1     0.0       0.0           0     Partnered with children              1   \n",
       "2     0.0       0.0           0     Single without children              1   \n",
       "3     0.0       0.0           0     Single without children              1   \n",
       "4     0.0       0.0           0  Partnered without children              1   \n",
       "\n",
       "  countryweightm       _merge weights_sample  \n",
       "0              1  Matched (3)              1  \n",
       "1              1  Matched (3)              0  \n",
       "2              1  Matched (3)              1  \n",
       "3              1  Matched (3)              1  \n",
       "4              1  Matched (3)              0  \n",
       "\n",
       "[5 rows x 236 columns]"
      ]
     },
     "execution_count": 46,
     "metadata": {},
     "output_type": "execute_result"
    }
   ],
   "source": [
    "# Convert to Pandas DataFrame (optional)\n",
    "df = rga_table.to_pandas()\n",
    "df.head()"
   ]
  },
  {
   "cell_type": "code",
   "execution_count": 47,
   "id": "5c0cf19b-04b1-48f3-a56f-fa7e5f062bd8",
   "metadata": {
    "tags": []
   },
   "outputs": [
    {
     "data": {
      "application/vnd.jupyter.widget-view+json": {
       "model_id": "fb735379742b47bd93325545e3f39c4f",
       "version_major": 2,
       "version_minor": 0
      },
      "text/plain": [
       "Box(children=(HTML(value='\\n<div id=\"ifr-pyg-00062b4131812f8ep3dy9K0CinPx7JTI\" style=\"height: auto\">\\n    <hea…"
      ]
     },
     "metadata": {},
     "output_type": "display_data"
    },
    {
     "data": {
      "text/html": [
       "<script>\n",
       "    window.addEventListener(\"message\", function(event) {\n",
       "        const backgroundMap = {\n",
       "            \"dark\": \"hsl(240 10% 3.9%)\",\n",
       "            \"light\": \"hsl(0 0 100%)\",\n",
       "        };\n",
       "        const colorMap = {\n",
       "            \"dark\": \"hsl(0 0% 98%)\",\n",
       "            \"light\": \"hsl(240 10% 3.9%)\",\n",
       "        };\n",
       "        if (event.data.action === \"changeAppearance\" && event.data.gid === \"00062b4131812f8ep3dy9K0CinPx7JTI\") {\n",
       "            var iframe = document.getElementById(\"gwalker-00062b4131812f8ep3dy9K0CinPx7JTI\");\n",
       "            iframe.style.background  = backgroundMap[event.data.appearance];\n",
       "            iframe.style.color = colorMap[event.data.appearance];\n",
       "        }\n",
       "    });\n",
       "</script>"
      ],
      "text/plain": [
       "<IPython.core.display.HTML object>"
      ]
     },
     "metadata": {},
     "output_type": "display_data"
    },
    {
     "data": {
      "text/html": [],
      "text/plain": [
       "<IPython.core.display.HTML object>"
      ]
     },
     "metadata": {},
     "output_type": "display_data"
    }
   ],
   "source": [
    "import pygwalker as pyg\n",
    "\n",
    "# Launch PyGWalker to explore the DataFrame\n",
    "walker = pyg.walk(df, kernel_computation=True)"
   ]
  },
  {
   "cell_type": "code",
   "execution_count": null,
   "id": "5956ffe6-68b3-4bbc-b1df-73999c6ccd65",
   "metadata": {
    "tags": []
   },
   "outputs": [],
   "source": [
    "# MinIO path to save the Parquet file\n",
    "aggregated_parquet_path = \"aggregated/Survey/data.parquet\""
   ]
  },
  {
   "cell_type": "code",
   "execution_count": 49,
   "id": "c1c961a6-f5f3-4dd4-8bff-4c8645572b80",
   "metadata": {
    "tags": []
   },
   "outputs": [],
   "source": [
    "# Convert the Pandas DataFrame to a PyArrow Table\n",
    "result_table = pa.Table.from_pandas(df)"
   ]
  },
  {
   "cell_type": "code",
   "execution_count": 50,
   "id": "5e939031-9234-4034-80c9-40e2ba404656",
   "metadata": {
    "tags": []
   },
   "outputs": [],
   "source": [
    "# Save the PyArrow Table as a Parquet file to MinIO\n",
    "pq.write_table(result_table, aggregated_parquet_path, filesystem=fs)"
   ]
  }
 ],
 "metadata": {
  "kernelspec": {
   "display_name": "Python 3 (ipykernel)",
   "language": "python",
   "name": "python3"
  },
  "language_info": {
   "codemirror_mode": {
    "name": "ipython",
    "version": 3
   },
   "file_extension": ".py",
   "mimetype": "text/x-python",
   "name": "python",
   "nbconvert_exporter": "python",
   "pygments_lexer": "ipython3",
   "version": "3.12.4"
  },
  "toc-showtags": true
 },
 "nbformat": 4,
 "nbformat_minor": 5
}
